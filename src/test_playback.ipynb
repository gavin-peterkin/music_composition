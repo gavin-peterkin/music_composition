{
 "cells": [
  {
   "cell_type": "code",
   "execution_count": 5,
   "metadata": {
    "collapsed": true
   },
   "outputs": [],
   "source": [
    "from utility.playback import Playback\n",
    "from parsing.midi_parser import MidiParser"
   ]
  },
  {
   "cell_type": "code",
   "execution_count": 6,
   "metadata": {
    "collapsed": true
   },
   "outputs": [],
   "source": [
    "with open('/Users/gavinpeterkin/Downloads/test.mid', 'rb') as f:\n",
    "    test_midi_data = f.read()\n",
    "\n",
    "parsed_midi = MidiParser(test_midi_data, 'G major')"
   ]
  },
  {
   "cell_type": "code",
   "execution_count": 4,
   "metadata": {},
   "outputs": [
    {
     "data": {
      "text/plain": [
       "6025"
      ]
     },
     "execution_count": 4,
     "metadata": {},
     "output_type": "execute_result"
    }
   ],
   "source": [
    "len(parsed_midi.list_of_notes)"
   ]
  },
  {
   "cell_type": "code",
   "execution_count": 13,
   "metadata": {},
   "outputs": [
    {
     "name": "stdout",
     "output_type": "stream",
     "text": [
      "[[(60, 'b')], [(60, 's')], [(60, 's')], [(60, 's')], [(60, 's'), (64, 'b')], [(60, 's'), (64, 's')], [(60, 's'), (64, 's')], [(60, 's'), (64, 's')], [(60, 's'), (64, 's'), (67, 'b')], [(60, 's'), (64, 's'), (67, 's')], [(60, 's'), (64, 's'), (67, 's')], [(60, 's'), (64, 's'), (67, 's')]]\n"
     ]
    }
   ],
   "source": [
    "list_of_a = [[(60, 'b')]]\n",
    "list_of_a.extend([[(60, 's')]] * 3)\n",
    "list_of_a.extend([[(60, 's'), (64, 'b')]])\n",
    "list_of_a.extend([[(60, 's'), (64, 's')]] * 3)\n",
    "list_of_a.extend([[(60, 's'), (64, 's'), (67, 'b')]])\n",
    "list_of_a.extend([[(60, 's'), (64, 's'), (67, 's')]] * 3)\n",
    "\n",
    "print list_of_a"
   ]
  },
  {
   "cell_type": "code",
   "execution_count": 14,
   "metadata": {
    "collapsed": true
   },
   "outputs": [],
   "source": [
    "pba = Playback(list_of_a)\n",
    "\n",
    "pba.output_playback_stream()"
   ]
  },
  {
   "cell_type": "code",
   "execution_count": 12,
   "metadata": {},
   "outputs": [
    {
     "ename": "KeyboardInterrupt",
     "evalue": "",
     "output_type": "error",
     "traceback": [
      "\u001b[0;31m---------------------------------------------------------------------------\u001b[0m",
      "\u001b[0;31mKeyboardInterrupt\u001b[0m                         Traceback (most recent call last)",
      "\u001b[0;32m<ipython-input-12-f6c6fdf2635b>\u001b[0m in \u001b[0;36m<module>\u001b[0;34m()\u001b[0m\n\u001b[1;32m      1\u001b[0m \u001b[0mpb\u001b[0m \u001b[0;34m=\u001b[0m \u001b[0mPlayback\u001b[0m\u001b[0;34m(\u001b[0m\u001b[0mparsed_midi\u001b[0m\u001b[0;34m.\u001b[0m\u001b[0mlist_of_notes\u001b[0m\u001b[0;34m)\u001b[0m\u001b[0;34m\u001b[0m\u001b[0m\n\u001b[1;32m      2\u001b[0m \u001b[0;34m\u001b[0m\u001b[0m\n\u001b[0;32m----> 3\u001b[0;31m \u001b[0mpb\u001b[0m\u001b[0;34m.\u001b[0m\u001b[0moutput_playback_stream\u001b[0m\u001b[0;34m(\u001b[0m\u001b[0;34m)\u001b[0m\u001b[0;34m\u001b[0m\u001b[0m\n\u001b[0m",
      "\u001b[0;32m/Users/gavinpeterkin/workspace/music_composition/src/utility/playback.py\u001b[0m in \u001b[0;36moutput_playback_stream\u001b[0;34m(self)\u001b[0m\n\u001b[1;32m     76\u001b[0m             \u001b[0;32mfor\u001b[0m \u001b[0mtone_generator\u001b[0m \u001b[0;32min\u001b[0m \u001b[0mcurrent_tones\u001b[0m\u001b[0;34m.\u001b[0m\u001b[0mvalues\u001b[0m\u001b[0;34m(\u001b[0m\u001b[0;34m)\u001b[0m\u001b[0;34m:\u001b[0m\u001b[0;34m\u001b[0m\u001b[0m\n\u001b[1;32m     77\u001b[0m                 \u001b[0moutput\u001b[0m \u001b[0;34m+=\u001b[0m \u001b[0mtone_generator\u001b[0m\u001b[0;34m.\u001b[0m\u001b[0mget_next_samples\u001b[0m\u001b[0;34m(\u001b[0m\u001b[0mbeat_length\u001b[0m\u001b[0;34m)\u001b[0m\u001b[0;34m\u001b[0m\u001b[0m\n\u001b[0;32m---> 78\u001b[0;31m             \u001b[0mstream\u001b[0m\u001b[0;34m.\u001b[0m\u001b[0mwrite\u001b[0m\u001b[0;34m(\u001b[0m\u001b[0moutput\u001b[0m \u001b[0;34m/\u001b[0m \u001b[0;36m12\u001b[0m\u001b[0;34m)\u001b[0m\u001b[0;34m\u001b[0m\u001b[0m\n\u001b[0m\u001b[1;32m     79\u001b[0m             \u001b[0mprevious_active_notes\u001b[0m \u001b[0;34m=\u001b[0m \u001b[0mactive_notes\u001b[0m\u001b[0;34m\u001b[0m\u001b[0m\n\u001b[1;32m     80\u001b[0m         \u001b[0mstream\u001b[0m\u001b[0;34m.\u001b[0m\u001b[0mstop_stream\u001b[0m\u001b[0;34m(\u001b[0m\u001b[0;34m)\u001b[0m\u001b[0;34m\u001b[0m\u001b[0m\n",
      "\u001b[0;32m/Users/gavinpeterkin/.virtualenvs/music/lib/python2.7/site-packages/pyaudio.pyc\u001b[0m in \u001b[0;36mwrite\u001b[0;34m(self, frames, num_frames, exception_on_underflow)\u001b[0m\n\u001b[1;32m    584\u001b[0m \u001b[0;34m\u001b[0m\u001b[0m\n\u001b[1;32m    585\u001b[0m         pa.write_stream(self._stream, frames, num_frames,\n\u001b[0;32m--> 586\u001b[0;31m                         exception_on_underflow)\n\u001b[0m\u001b[1;32m    587\u001b[0m \u001b[0;34m\u001b[0m\u001b[0m\n\u001b[1;32m    588\u001b[0m \u001b[0;34m\u001b[0m\u001b[0m\n",
      "\u001b[0;31mKeyboardInterrupt\u001b[0m: "
     ]
    }
   ],
   "source": [
    "pb = Playback(parsed_midi.list_of_notes)\n",
    "\n",
    "pb.output_playback_stream()"
   ]
  },
  {
   "cell_type": "code",
   "execution_count": null,
   "metadata": {
    "collapsed": true
   },
   "outputs": [],
   "source": [
    "pb.get_note_freq(67)"
   ]
  },
  {
   "cell_type": "code",
   "execution_count": null,
   "metadata": {
    "collapsed": true
   },
   "outputs": [],
   "source": [
    "np.linspace(0, 100, 100, dtype=np.float32)"
   ]
  },
  {
   "cell_type": "code",
   "execution_count": 16,
   "metadata": {
    "collapsed": true
   },
   "outputs": [],
   "source": [
    "pba.terminate()"
   ]
  },
  {
   "cell_type": "code",
   "execution_count": 18,
   "metadata": {},
   "outputs": [
    {
     "data": {
      "text/plain": [
       "dtype('float64')"
      ]
     },
     "execution_count": 18,
     "metadata": {},
     "output_type": "execute_result"
    }
   ],
   "source": [
    "import numpy as np\n",
    "\n",
    "np.zeros((100, 128)).dtype"
   ]
  },
  {
   "cell_type": "code",
   "execution_count": null,
   "metadata": {
    "collapsed": true
   },
   "outputs": [],
   "source": []
  }
 ],
 "metadata": {
  "kernelspec": {
   "display_name": "music",
   "language": "python",
   "name": "music"
  },
  "language_info": {
   "codemirror_mode": {
    "name": "ipython",
    "version": 2
   },
   "file_extension": ".py",
   "mimetype": "text/x-python",
   "name": "python",
   "nbconvert_exporter": "python",
   "pygments_lexer": "ipython2",
   "version": "2.7.13"
  }
 },
 "nbformat": 4,
 "nbformat_minor": 2
}
