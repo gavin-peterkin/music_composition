{
 "cells": [
  {
   "cell_type": "code",
   "execution_count": 8,
   "metadata": {},
   "outputs": [],
   "source": [
    "from __future__ import print_function, division\n",
    "import numpy as np\n",
    "import tensorflow as tf\n",
    "import matplotlib.pyplot as plt\n",
    "\n",
    "%matplotlib inline"
   ]
  },
  {
   "cell_type": "code",
   "execution_count": 2,
   "metadata": {
    "collapsed": true
   },
   "outputs": [],
   "source": [
    "num_epochs = 100\n",
    "total_series_length = 50000\n",
    "truncated_backprop_length = 15\n",
    "state_size = 4\n",
    "num_classes = 2\n",
    "echo_step = 3\n",
    "batch_size = 5\n",
    "num_batches = total_series_length//batch_size//truncated_backprop_length"
   ]
  },
  {
   "cell_type": "code",
   "execution_count": 3,
   "metadata": {
    "collapsed": true
   },
   "outputs": [],
   "source": [
    "def generateData():\n",
    "    x = np.array(np.random.choice(2, total_series_length, p=[0.5, 0.5]))\n",
    "    y = np.roll(x, echo_step)\n",
    "    y[0:echo_step] = 0\n",
    "\n",
    "    x = x.reshape((batch_size, -1))  # The first index changing slowest, subseries as rows\n",
    "    y = y.reshape((batch_size, -1))\n",
    "\n",
    "    return (x, y)"
   ]
  },
  {
   "cell_type": "code",
   "execution_count": 20,
   "metadata": {
    "collapsed": true
   },
   "outputs": [],
   "source": [
    "X, y = generateData()"
   ]
  },
  {
   "cell_type": "code",
   "execution_count": 21,
   "metadata": {},
   "outputs": [
    {
     "data": {
      "text/plain": [
       "(5, 10000)"
      ]
     },
     "execution_count": 21,
     "metadata": {},
     "output_type": "execute_result"
    }
   ],
   "source": [
    "X.shape"
   ]
  },
  {
   "cell_type": "code",
   "execution_count": 22,
   "metadata": {},
   "outputs": [
    {
     "data": {
      "text/plain": [
       "(5, 10000)"
      ]
     },
     "execution_count": 22,
     "metadata": {},
     "output_type": "execute_result"
    }
   ],
   "source": [
    "y.shape"
   ]
  },
  {
   "cell_type": "code",
   "execution_count": 13,
   "metadata": {
    "collapsed": true
   },
   "outputs": [],
   "source": [
    "x = np.array(np.random.choice(2, total_series_length, p=[0.5, 0.5]))"
   ]
  },
  {
   "cell_type": "code",
   "execution_count": 18,
   "metadata": {},
   "outputs": [
    {
     "data": {
      "text/plain": [
       "(50000,)"
      ]
     },
     "execution_count": 18,
     "metadata": {},
     "output_type": "execute_result"
    }
   ],
   "source": [
    "x.shape"
   ]
  },
  {
   "cell_type": "code",
   "execution_count": 17,
   "metadata": {},
   "outputs": [
    {
     "data": {
      "text/plain": [
       "(5, 10000)"
      ]
     },
     "execution_count": 17,
     "metadata": {},
     "output_type": "execute_result"
    }
   ],
   "source": [
    "x.reshape((5, -1)).shape"
   ]
  },
  {
   "cell_type": "code",
   "execution_count": 19,
   "metadata": {},
   "outputs": [
    {
     "data": {
      "text/plain": [
       "(5, 10000)"
      ]
     },
     "execution_count": 19,
     "metadata": {},
     "output_type": "execute_result"
    }
   ],
   "source": [
    "y.shape"
   ]
  },
  {
   "cell_type": "code",
   "execution_count": 14,
   "metadata": {},
   "outputs": [
    {
     "data": {
      "text/plain": [
       "array([0, 0, 1, 1, 1, 1])"
      ]
     },
     "execution_count": 14,
     "metadata": {},
     "output_type": "execute_result"
    }
   ],
   "source": [
    "np.roll(np.array([0, 1, 1, 1, 1, 0]), 1)"
   ]
  },
  {
   "cell_type": "code",
   "execution_count": 12,
   "metadata": {},
   "outputs": [
    {
     "data": {
      "text/plain": [
       "(5, 10000)"
      ]
     },
     "execution_count": 12,
     "metadata": {},
     "output_type": "execute_result"
    }
   ],
   "source": [
    "generateData()[0].shape"
   ]
  },
  {
   "cell_type": "code",
   "execution_count": 6,
   "metadata": {},
   "outputs": [],
   "source": [
    "batchX_placeholder = tf.placeholder(tf.float32, [batch_size, truncated_backprop_length])\n",
    "batchY_placeholder = tf.placeholder(tf.int32, [batch_size, truncated_backprop_length])\n",
    "\n",
    "cell_state = tf.placeholder(tf.float32, [batch_size, state_size])\n",
    "hidden_state = tf.placeholder(tf.float32, [batch_size, state_size])\n",
    "init_state = tf.nn.rnn_cell.LSTMStateTuple(cell_state, hidden_state)\n",
    "\n",
    "W2 = tf.Variable(np.random.rand(state_size, num_classes),dtype=tf.float32)\n",
    "b2 = tf.Variable(np.zeros((1,num_classes)), dtype=tf.float32)\n",
    "\n",
    "# Unpack columns\n",
    "inputs_series = tf.split(batchX_placeholder, truncated_backprop_length, axis=1)\n",
    "labels_series = tf.unstack(batchY_placeholder, axis=1)\n",
    "\n",
    "# Forward passes\n",
    "cell = tf.nn.rnn_cell.BasicLSTMCell(state_size, state_is_tuple=True)\n",
    "states_series, current_state = tf.contrib.rnn.static_rnn(cell, inputs_series, init_state)\n",
    "\n",
    "logits_series = [tf.matmul(state, W2) + b2 for state in states_series] #Broadcasted addition\n",
    "predictions_series = [tf.nn.softmax(logits) for logits in logits_series]\n",
    "\n",
    "losses = [\n",
    "    tf.nn.sparse_softmax_cross_entropy_with_logits(logits=logits, labels=labels)\n",
    "    for logits, labels in zip(logits_series,labels_series)\n",
    "]\n",
    "total_loss = tf.reduce_mean(losses)\n",
    "\n",
    "train_step = tf.train.AdagradOptimizer(0.3).minimize(total_loss)"
   ]
  },
  {
   "cell_type": "code",
   "execution_count": 9,
   "metadata": {
    "collapsed": true
   },
   "outputs": [],
   "source": [
    "def plot(loss_list, predictions_series, batchX, batchY):\n",
    "    plt.subplot(2, 3, 1)\n",
    "    plt.cla()\n",
    "    plt.plot(loss_list)\n",
    "\n",
    "    for batch_series_idx in range(5):\n",
    "        one_hot_output_series = np.array(predictions_series)[:, batch_series_idx, :]\n",
    "        single_output_series = np.array([(1 if out[0] < 0.5 else 0) for out in one_hot_output_series])\n",
    "\n",
    "        plt.subplot(2, 3, batch_series_idx + 2)\n",
    "        plt.cla()\n",
    "        plt.axis([0, truncated_backprop_length, 0, 2])\n",
    "        left_offset = range(truncated_backprop_length)\n",
    "        plt.bar(left_offset, batchX[batch_series_idx, :], width=1, color=\"blue\")\n",
    "        plt.bar(left_offset, batchY[batch_series_idx, :] * 0.5, width=1, color=\"red\")\n",
    "        plt.bar(left_offset, single_output_series * 0.3, width=1, color=\"green\")\n",
    "\n",
    "    plt.draw()\n",
    "    plt.pause(0.0001)\n"
   ]
  },
  {
   "cell_type": "code",
   "execution_count": 10,
   "metadata": {},
   "outputs": [
    {
     "name": "stdout",
     "output_type": "stream",
     "text": [
      "WARNING:tensorflow:From /Users/gavinpeterkin/.virtualenvs/music/lib/python2.7/site-packages/tensorflow/python/util/tf_should_use.py:175: initialize_all_variables (from tensorflow.python.ops.variables) is deprecated and will be removed after 2017-03-02.\n",
      "Instructions for updating:\n",
      "Use `tf.global_variables_initializer` instead.\n"
     ]
    },
    {
     "name": "stderr",
     "output_type": "stream",
     "text": [
      "WARNING:tensorflow:From /Users/gavinpeterkin/.virtualenvs/music/lib/python2.7/site-packages/tensorflow/python/util/tf_should_use.py:175: initialize_all_variables (from tensorflow.python.ops.variables) is deprecated and will be removed after 2017-03-02.\n",
      "Instructions for updating:\n",
      "Use `tf.global_variables_initializer` instead.\n"
     ]
    },
    {
     "data": {
      "text/plain": [
       "<matplotlib.figure.Figure at 0x10be28e90>"
      ]
     },
     "metadata": {},
     "output_type": "display_data"
    },
    {
     "name": "stdout",
     "output_type": "stream",
     "text": [
      "New data, epoch 0\n",
      "Step 0 Batch loss 0.71169\n",
      "Step 100 Batch loss 0.59288\n",
      "Step 200 Batch loss 0.465242\n",
      "Step 300 Batch loss 0.465243\n",
      "Step 400 Batch loss 0.342866\n",
      "Step 500 Batch loss 0.342576\n",
      "Step 600 Batch loss 0.0507977\n",
      "New data, epoch 1\n",
      "Step 0 Batch loss 0.712902\n",
      "Step 100 Batch loss 0.00908105\n",
      "Step 200 Batch loss 0.00684016\n",
      "Step 300 Batch loss 0.00376409\n",
      "Step 400 Batch loss 0.0022391\n",
      "Step 500 Batch loss 0.00218354\n",
      "Step 600 Batch loss 0.00188889\n",
      "New data, epoch 2\n",
      "Step 0 Batch loss 0.916338\n",
      "Step 100 Batch loss 0.00327335\n",
      "Step 200 Batch loss 0.00174598\n",
      "Step 300 Batch loss 0.00168221\n",
      "Step 400 Batch loss 0.00168421\n",
      "Step 500 Batch loss 0.00167783\n",
      "Step 600 Batch loss 0.00122626\n",
      "New data, epoch 3\n",
      "Step 0 Batch loss 0.798974\n",
      "Step 100 Batch loss 0.00147352\n",
      "Step 200 Batch loss 0.00121132\n",
      "Step 300 Batch loss 0.000824562\n",
      "Step 400 Batch loss 0.00102485\n",
      "Step 500 Batch loss 0.000906828\n",
      "Step 600 Batch loss 0.000957837\n",
      "New data, epoch 4\n",
      "Step 0 Batch loss 0.533399\n",
      "Step 100 Batch loss 0.00100387\n",
      "Step 200 Batch loss 0.000884942\n",
      "Step 300 Batch loss 0.000533672\n",
      "Step 400 Batch loss 0.000676289\n",
      "Step 500 Batch loss 0.000508899\n",
      "Step 600 Batch loss 0.000565578\n",
      "New data, epoch 5\n",
      "Step 0 Batch loss 0.771994\n",
      "Step 100 Batch loss 0.000560827\n",
      "Step 200 Batch loss 0.000595992\n",
      "Step 300 Batch loss 0.000594913\n",
      "Step 400 Batch loss 0.000401838\n",
      "Step 500 Batch loss 0.000505652\n",
      "Step 600 Batch loss 0.000533932\n",
      "New data, epoch 6\n",
      "Step 0 Batch loss 0.878873\n",
      "Step 100 Batch loss 0.000336997\n",
      "Step 200 Batch loss 0.000571595\n",
      "Step 300 Batch loss 0.00044337\n",
      "Step 400 Batch loss 0.000476337\n",
      "Step 500 Batch loss 0.000307371\n",
      "Step 600 Batch loss 0.000434764\n",
      "New data, epoch 7\n",
      "Step 0 Batch loss 1.02036\n",
      "Step 100 Batch loss 0.000427183\n",
      "Step 200 Batch loss 0.000433549\n",
      "Step 300 Batch loss 0.000401885\n",
      "Step 400 Batch loss 0.000436954\n",
      "Step 500 Batch loss 0.0003026\n",
      "Step 600 Batch loss 0.00028204\n",
      "New data, epoch 8\n",
      "Step 0 Batch loss 0.994031\n",
      "Step 100 Batch loss 0.000388098\n",
      "Step 200 Batch loss 0.000391937\n",
      "Step 300 Batch loss 0.000417834\n",
      "Step 400 Batch loss 0.000390201\n",
      "Step 500 Batch loss 0.000367465\n",
      "Step 600 Batch loss 0.000275709\n",
      "New data, epoch 9\n",
      "Step 0 Batch loss 0.685664\n",
      "Step 100 Batch loss 0.000370266\n",
      "Step 200 Batch loss 0.000335125\n",
      "Step 300 Batch loss 0.000299605\n",
      "Step 400 Batch loss 0.000268407\n",
      "Step 500 Batch loss 0.000340778\n",
      "Step 600 Batch loss 0.000304267\n",
      "New data, epoch 10\n",
      "Step 0 Batch loss 0.75368\n",
      "Step 100 Batch loss 0.000378319\n",
      "Step 200 Batch loss 0.000368771\n",
      "Step 300 Batch loss 0.000272042\n",
      "Step 400 Batch loss 0.000263883\n",
      "Step 500 Batch loss 0.000273355\n",
      "Step 600 Batch loss 0.000292164\n",
      "New data, epoch 11\n",
      "Step 0 Batch loss 0.766131\n",
      "Step 100 Batch loss 0.0002497\n",
      "Step 200 Batch loss 0.000247269\n",
      "Step 300 Batch loss 0.00022871\n",
      "Step 400 Batch loss 0.000260377\n",
      "Step 500 Batch loss 0.000361528\n",
      "Step 600 Batch loss 0.000245943\n",
      "New data, epoch 12\n",
      "Step 0 Batch loss 0.506298\n",
      "Step 100 Batch loss 0.000288521\n",
      "Step 200 Batch loss 0.000208766\n",
      "Step 300 Batch loss 0.000377706\n",
      "Step 400 Batch loss 0.000256606\n",
      "Step 500 Batch loss 0.000312356\n",
      "Step 600 Batch loss 0.000180717\n",
      "New data, epoch 13\n",
      "Step 0 Batch loss 0.728428\n",
      "Step 100 Batch loss 0.000286051\n",
      "Step 200 Batch loss 0.000183905\n",
      "Step 300 Batch loss 0.000276744\n",
      "Step 400 Batch loss 0.000243062\n",
      "Step 500 Batch loss 0.000280412\n",
      "Step 600 Batch loss 0.000215725\n",
      "New data, epoch 14\n",
      "Step 0 Batch loss 0.653375\n",
      "Step 100 Batch loss 0.000220368\n",
      "Step 200 Batch loss 0.000236747\n",
      "Step 300 Batch loss 0.000263572\n",
      "Step 400 Batch loss 0.000240072\n",
      "Step 500 Batch loss 0.000239142\n",
      "Step 600 Batch loss 0.00019347\n",
      "New data, epoch 15\n",
      "Step 0 Batch loss 0.925934\n",
      "Step 100 Batch loss 0.000208806\n",
      "Step 200 Batch loss 0.00034021\n",
      "Step 300 Batch loss 0.000139362\n",
      "Step 400 Batch loss 0.000245684\n",
      "Step 500 Batch loss 0.000239634\n",
      "Step 600 Batch loss 0.000185808\n",
      "New data, epoch 16\n",
      "Step 0 Batch loss 0.871943\n",
      "Step 100 Batch loss 0.000269813\n",
      "Step 200 Batch loss 0.000215651\n",
      "Step 300 Batch loss 0.000200653\n",
      "Step 400 Batch loss 0.000168611\n",
      "Step 500 Batch loss 0.000251273\n",
      "Step 600 Batch loss 0.000248443\n",
      "New data, epoch 17\n",
      "Step 0 Batch loss 0.535476\n",
      "Step 100 Batch loss 0.00029225\n",
      "Step 200 Batch loss 0.000204435\n",
      "Step 300 Batch loss 0.0001957\n",
      "Step 400 Batch loss 0.000277484\n",
      "Step 500 Batch loss 0.000191059\n",
      "Step 600 Batch loss 0.000149367\n",
      "New data, epoch 18\n",
      "Step 0 Batch loss 0.274131\n",
      "Step 100 Batch loss 0.000192028\n",
      "Step 200 Batch loss 0.000226183\n",
      "Step 300 Batch loss 0.000197349\n",
      "Step 400 Batch loss 0.000199645\n",
      "Step 500 Batch loss 0.000191347\n",
      "Step 600 Batch loss 0.000187129\n",
      "New data, epoch 19\n",
      "Step 0 Batch loss 0.758441\n",
      "Step 100 Batch loss 0.000221645\n",
      "Step 200 Batch loss 0.000172863\n",
      "Step 300 Batch loss 0.00018415\n",
      "Step 400 Batch loss 0.000164163\n",
      "Step 500 Batch loss 0.000183103\n",
      "Step 600 Batch loss 0.00014691\n",
      "New data, epoch 20\n",
      "Step 0 Batch loss 0.660877\n",
      "Step 100 Batch loss 0.000172212\n",
      "Step 200 Batch loss 0.000160421\n",
      "Step 300 Batch loss 0.000172017\n",
      "Step 400 Batch loss 0.000211164\n",
      "Step 500 Batch loss 0.000156119\n",
      "Step 600 Batch loss 0.000136006\n",
      "New data, epoch 21\n",
      "Step 0 Batch loss 0.580422\n",
      "Step 100 Batch loss 0.000185615\n",
      "Step 200 Batch loss 0.000161782\n",
      "Step 300 Batch loss 0.000226543\n",
      "Step 400 Batch loss 0.000203174\n",
      "Step 500 Batch loss 0.000217492\n",
      "Step 600 Batch loss 0.000142419\n",
      "New data, epoch 22\n",
      "Step 0 Batch loss 0.803053\n",
      "Step 100 Batch loss 0.000236584\n",
      "Step 200 Batch loss 0.000211141\n",
      "Step 300 Batch loss 0.000163227\n",
      "Step 400 Batch loss 0.000164173\n",
      "Step 500 Batch loss 0.000145344\n",
      "Step 600 Batch loss 0.000170155\n",
      "New data, epoch 23\n",
      "Step 0 Batch loss 0.619777\n",
      "Step 100 Batch loss 0.00017299\n",
      "Step 200 Batch loss 0.000168738\n",
      "Step 300 Batch loss 0.000153822\n",
      "Step 400 Batch loss 0.000200309\n",
      "Step 500 Batch loss 0.000156618\n",
      "Step 600 Batch loss 0.000214444\n",
      "New data, epoch 24\n",
      "Step 0 Batch loss 0.707573\n",
      "Step 100 Batch loss 0.000204361\n",
      "Step 200 Batch loss 0.000178515\n",
      "Step 300 Batch loss 0.000157082\n",
      "Step 400 Batch loss 0.000163582\n",
      "Step 500 Batch loss 0.000192274\n",
      "Step 600 Batch loss 0.000167524\n",
      "New data, epoch 25\n",
      "Step 0 Batch loss 0.753346\n",
      "Step 100 Batch loss 0.000200261\n",
      "Step 200 Batch loss 0.000191511\n",
      "Step 300 Batch loss 0.000169673\n",
      "Step 400 Batch loss 0.000147009\n",
      "Step 500 Batch loss 0.000124322\n",
      "Step 600 Batch loss 0.000134181\n",
      "New data, epoch 26\n",
      "Step 0 Batch loss 0.798247\n",
      "Step 100 Batch loss 0.000120552\n",
      "Step 200 Batch loss 0.000163995\n",
      "Step 300 Batch loss 0.000150238\n",
      "Step 400 Batch loss 0.000163211\n",
      "Step 500 Batch loss 0.000122443\n",
      "Step 600 Batch loss 0.000138827\n",
      "New data, epoch 27\n",
      "Step 0 Batch loss 0.646815\n",
      "Step 100 Batch loss 0.000178353\n",
      "Step 200 Batch loss 0.000152018\n",
      "Step 300 Batch loss 0.000179125\n",
      "Step 400 Batch loss 0.000136456\n",
      "Step 500 Batch loss 0.000198037\n",
      "Step 600 Batch loss 0.000152732\n",
      "New data, epoch 28\n",
      "Step 0 Batch loss 1.00478\n",
      "Step 100 Batch loss 0.000185828\n",
      "Step 200 Batch loss 0.000192222\n",
      "Step 300 Batch loss 0.000148406\n",
      "Step 400 Batch loss 0.000161669\n",
      "Step 500 Batch loss 0.00018147\n",
      "Step 600 Batch loss 0.000139839\n",
      "New data, epoch 29\n",
      "Step 0 Batch loss 0.536335\n",
      "Step 100 Batch loss 0.000204304\n",
      "Step 200 Batch loss 0.000189481\n",
      "Step 300 Batch loss 0.000160557\n",
      "Step 400 Batch loss 0.000137975\n",
      "Step 500 Batch loss 0.000172301\n",
      "Step 600 Batch loss 0.000137889\n",
      "New data, epoch 30\n",
      "Step 0 Batch loss 0.765886\n",
      "Step 100 Batch loss 0.000217297\n",
      "Step 200 Batch loss 0.000166307\n",
      "Step 300 Batch loss 0.000155304\n",
      "Step 400 Batch loss 0.000240285\n",
      "Step 500 Batch loss 0.000173454\n",
      "Step 600 Batch loss 0.000158347\n",
      "New data, epoch 31\n",
      "Step 0 Batch loss 0.680344\n",
      "Step 100 Batch loss 0.000210379\n",
      "Step 200 Batch loss 0.000131295\n",
      "Step 300 Batch loss 0.000197212\n",
      "Step 400 Batch loss 0.000182981\n",
      "Step 500 Batch loss 0.000174161\n",
      "Step 600 Batch loss 0.000178863\n",
      "New data, epoch 32\n",
      "Step 0 Batch loss 0.726769\n",
      "Step 100 Batch loss 0.00020035\n",
      "Step 200 Batch loss 0.000208751\n",
      "Step 300 Batch loss 0.000118045\n",
      "Step 400 Batch loss 0.000141286\n",
      "Step 500 Batch loss 0.000139385\n",
      "Step 600 Batch loss 0.000220374\n",
      "New data, epoch 33\n",
      "Step 0 Batch loss 0.620787\n",
      "Step 100 Batch loss 0.00013889\n",
      "Step 200 Batch loss 0.000175406\n",
      "Step 300 Batch loss 0.000151318\n",
      "Step 400 Batch loss 0.000157897\n",
      "Step 500 Batch loss 0.000155452\n",
      "Step 600 Batch loss 0.000140897\n",
      "New data, epoch 34\n",
      "Step 0 Batch loss 0.824396\n",
      "Step 100 Batch loss 0.000175976\n",
      "Step 200 Batch loss 0.000149467\n",
      "Step 300 Batch loss 0.000144589\n",
      "Step 400 Batch loss 0.000124029\n"
     ]
    },
    {
     "name": "stdout",
     "output_type": "stream",
     "text": [
      "Step 500 Batch loss 0.000107143\n",
      "Step 600 Batch loss 0.000197971\n",
      "New data, epoch 35\n",
      "Step 0 Batch loss 0.603049\n",
      "Step 100 Batch loss 0.000218736\n",
      "Step 200 Batch loss 0.000193233\n",
      "Step 300 Batch loss 0.000150867\n",
      "Step 400 Batch loss 0.00016083\n",
      "Step 500 Batch loss 0.000127796\n",
      "Step 600 Batch loss 0.000145265\n",
      "New data, epoch 36\n",
      "Step 0 Batch loss 0.432997\n",
      "Step 100 Batch loss 0.00017567\n",
      "Step 200 Batch loss 0.000134339\n",
      "Step 300 Batch loss 0.000155906\n",
      "Step 400 Batch loss 0.000131579\n",
      "Step 500 Batch loss 0.000148311\n",
      "Step 600 Batch loss 0.000211727\n",
      "New data, epoch 37\n",
      "Step 0 Batch loss 0.524359\n",
      "Step 100 Batch loss 0.00017427\n",
      "Step 200 Batch loss 0.000150557\n",
      "Step 300 Batch loss 0.000142384\n",
      "Step 400 Batch loss 0.000125586\n",
      "Step 500 Batch loss 0.000162566\n",
      "Step 600 Batch loss 0.000143378\n",
      "New data, epoch 38\n",
      "Step 0 Batch loss 0.474185\n",
      "Step 100 Batch loss 0.000153065\n",
      "Step 200 Batch loss 0.000127021\n",
      "Step 300 Batch loss 0.000171141\n"
     ]
    },
    {
     "ename": "KeyboardInterrupt",
     "evalue": "",
     "output_type": "error",
     "traceback": [
      "\u001b[0;31m---------------------------------------------------------------------------\u001b[0m",
      "\u001b[0;31mKeyboardInterrupt\u001b[0m                         Traceback (most recent call last)",
      "\u001b[0;32m<ipython-input-10-f24dd2b4f2f4>\u001b[0m in \u001b[0;36m<module>\u001b[0;34m()\u001b[0m\n\u001b[1;32m     36\u001b[0m             \u001b[0;32mif\u001b[0m \u001b[0mbatch_idx\u001b[0m\u001b[0;34m%\u001b[0m\u001b[0;36m100\u001b[0m \u001b[0;34m==\u001b[0m \u001b[0;36m0\u001b[0m\u001b[0;34m:\u001b[0m\u001b[0;34m\u001b[0m\u001b[0m\n\u001b[1;32m     37\u001b[0m                 \u001b[0;32mprint\u001b[0m\u001b[0;34m(\u001b[0m\u001b[0;34m\"Step\"\u001b[0m\u001b[0;34m,\u001b[0m\u001b[0mbatch_idx\u001b[0m\u001b[0;34m,\u001b[0m \u001b[0;34m\"Batch loss\"\u001b[0m\u001b[0;34m,\u001b[0m \u001b[0m_total_loss\u001b[0m\u001b[0;34m)\u001b[0m\u001b[0;34m\u001b[0m\u001b[0m\n\u001b[0;32m---> 38\u001b[0;31m                 \u001b[0mplot\u001b[0m\u001b[0;34m(\u001b[0m\u001b[0mloss_list\u001b[0m\u001b[0;34m,\u001b[0m \u001b[0m_predictions_series\u001b[0m\u001b[0;34m,\u001b[0m \u001b[0mbatchX\u001b[0m\u001b[0;34m,\u001b[0m \u001b[0mbatchY\u001b[0m\u001b[0;34m)\u001b[0m\u001b[0;34m\u001b[0m\u001b[0m\n\u001b[0m\u001b[1;32m     39\u001b[0m \u001b[0;34m\u001b[0m\u001b[0m\n\u001b[1;32m     40\u001b[0m \u001b[0mplt\u001b[0m\u001b[0;34m.\u001b[0m\u001b[0mioff\u001b[0m\u001b[0;34m(\u001b[0m\u001b[0;34m)\u001b[0m\u001b[0;34m\u001b[0m\u001b[0m\n",
      "\u001b[0;32m<ipython-input-9-61c4d1a4d3c4>\u001b[0m in \u001b[0;36mplot\u001b[0;34m(loss_list, predictions_series, batchX, batchY)\u001b[0m\n\u001b[1;32m     12\u001b[0m         \u001b[0mplt\u001b[0m\u001b[0;34m.\u001b[0m\u001b[0maxis\u001b[0m\u001b[0;34m(\u001b[0m\u001b[0;34m[\u001b[0m\u001b[0;36m0\u001b[0m\u001b[0;34m,\u001b[0m \u001b[0mtruncated_backprop_length\u001b[0m\u001b[0;34m,\u001b[0m \u001b[0;36m0\u001b[0m\u001b[0;34m,\u001b[0m \u001b[0;36m2\u001b[0m\u001b[0;34m]\u001b[0m\u001b[0;34m)\u001b[0m\u001b[0;34m\u001b[0m\u001b[0m\n\u001b[1;32m     13\u001b[0m         \u001b[0mleft_offset\u001b[0m \u001b[0;34m=\u001b[0m \u001b[0mrange\u001b[0m\u001b[0;34m(\u001b[0m\u001b[0mtruncated_backprop_length\u001b[0m\u001b[0;34m)\u001b[0m\u001b[0;34m\u001b[0m\u001b[0m\n\u001b[0;32m---> 14\u001b[0;31m         \u001b[0mplt\u001b[0m\u001b[0;34m.\u001b[0m\u001b[0mbar\u001b[0m\u001b[0;34m(\u001b[0m\u001b[0mleft_offset\u001b[0m\u001b[0;34m,\u001b[0m \u001b[0mbatchX\u001b[0m\u001b[0;34m[\u001b[0m\u001b[0mbatch_series_idx\u001b[0m\u001b[0;34m,\u001b[0m \u001b[0;34m:\u001b[0m\u001b[0;34m]\u001b[0m\u001b[0;34m,\u001b[0m \u001b[0mwidth\u001b[0m\u001b[0;34m=\u001b[0m\u001b[0;36m1\u001b[0m\u001b[0;34m,\u001b[0m \u001b[0mcolor\u001b[0m\u001b[0;34m=\u001b[0m\u001b[0;34m\"blue\"\u001b[0m\u001b[0;34m)\u001b[0m\u001b[0;34m\u001b[0m\u001b[0m\n\u001b[0m\u001b[1;32m     15\u001b[0m         \u001b[0mplt\u001b[0m\u001b[0;34m.\u001b[0m\u001b[0mbar\u001b[0m\u001b[0;34m(\u001b[0m\u001b[0mleft_offset\u001b[0m\u001b[0;34m,\u001b[0m \u001b[0mbatchY\u001b[0m\u001b[0;34m[\u001b[0m\u001b[0mbatch_series_idx\u001b[0m\u001b[0;34m,\u001b[0m \u001b[0;34m:\u001b[0m\u001b[0;34m]\u001b[0m \u001b[0;34m*\u001b[0m \u001b[0;36m0.5\u001b[0m\u001b[0;34m,\u001b[0m \u001b[0mwidth\u001b[0m\u001b[0;34m=\u001b[0m\u001b[0;36m1\u001b[0m\u001b[0;34m,\u001b[0m \u001b[0mcolor\u001b[0m\u001b[0;34m=\u001b[0m\u001b[0;34m\"red\"\u001b[0m\u001b[0;34m)\u001b[0m\u001b[0;34m\u001b[0m\u001b[0m\n\u001b[1;32m     16\u001b[0m         \u001b[0mplt\u001b[0m\u001b[0;34m.\u001b[0m\u001b[0mbar\u001b[0m\u001b[0;34m(\u001b[0m\u001b[0mleft_offset\u001b[0m\u001b[0;34m,\u001b[0m \u001b[0msingle_output_series\u001b[0m \u001b[0;34m*\u001b[0m \u001b[0;36m0.3\u001b[0m\u001b[0;34m,\u001b[0m \u001b[0mwidth\u001b[0m\u001b[0;34m=\u001b[0m\u001b[0;36m1\u001b[0m\u001b[0;34m,\u001b[0m \u001b[0mcolor\u001b[0m\u001b[0;34m=\u001b[0m\u001b[0;34m\"green\"\u001b[0m\u001b[0;34m)\u001b[0m\u001b[0;34m\u001b[0m\u001b[0m\n",
      "\u001b[0;32m/Users/gavinpeterkin/.virtualenvs/music/lib/python2.7/site-packages/matplotlib/pyplot.pyc\u001b[0m in \u001b[0;36mbar\u001b[0;34m(left, height, width, bottom, hold, data, **kwargs)\u001b[0m\n\u001b[1;32m   2702\u001b[0m     \u001b[0;32mtry\u001b[0m\u001b[0;34m:\u001b[0m\u001b[0;34m\u001b[0m\u001b[0m\n\u001b[1;32m   2703\u001b[0m         ret = ax.bar(left, height, width=width, bottom=bottom, data=data,\n\u001b[0;32m-> 2704\u001b[0;31m                      **kwargs)\n\u001b[0m\u001b[1;32m   2705\u001b[0m     \u001b[0;32mfinally\u001b[0m\u001b[0;34m:\u001b[0m\u001b[0;34m\u001b[0m\u001b[0m\n\u001b[1;32m   2706\u001b[0m         \u001b[0max\u001b[0m\u001b[0;34m.\u001b[0m\u001b[0m_hold\u001b[0m \u001b[0;34m=\u001b[0m \u001b[0mwashold\u001b[0m\u001b[0;34m\u001b[0m\u001b[0m\n",
      "\u001b[0;32m/Users/gavinpeterkin/.virtualenvs/music/lib/python2.7/site-packages/matplotlib/__init__.pyc\u001b[0m in \u001b[0;36minner\u001b[0;34m(ax, *args, **kwargs)\u001b[0m\n\u001b[1;32m   1896\u001b[0m                     warnings.warn(msg % (label_namer, func.__name__),\n\u001b[1;32m   1897\u001b[0m                                   RuntimeWarning, stacklevel=2)\n\u001b[0;32m-> 1898\u001b[0;31m             \u001b[0;32mreturn\u001b[0m \u001b[0mfunc\u001b[0m\u001b[0;34m(\u001b[0m\u001b[0max\u001b[0m\u001b[0;34m,\u001b[0m \u001b[0;34m*\u001b[0m\u001b[0margs\u001b[0m\u001b[0;34m,\u001b[0m \u001b[0;34m**\u001b[0m\u001b[0mkwargs\u001b[0m\u001b[0;34m)\u001b[0m\u001b[0;34m\u001b[0m\u001b[0m\n\u001b[0m\u001b[1;32m   1899\u001b[0m         \u001b[0mpre_doc\u001b[0m \u001b[0;34m=\u001b[0m \u001b[0minner\u001b[0m\u001b[0;34m.\u001b[0m\u001b[0m__doc__\u001b[0m\u001b[0;34m\u001b[0m\u001b[0m\n\u001b[1;32m   1900\u001b[0m         \u001b[0;32mif\u001b[0m \u001b[0mpre_doc\u001b[0m \u001b[0;32mis\u001b[0m \u001b[0mNone\u001b[0m\u001b[0;34m:\u001b[0m\u001b[0;34m\u001b[0m\u001b[0m\n",
      "\u001b[0;32m/Users/gavinpeterkin/.virtualenvs/music/lib/python2.7/site-packages/matplotlib/axes/_axes.pyc\u001b[0m in \u001b[0;36mbar\u001b[0;34m(self, left, height, width, bottom, **kwargs)\u001b[0m\n\u001b[1;32m   2126\u001b[0m             \u001b[0;32melif\u001b[0m \u001b[0morientation\u001b[0m \u001b[0;34m==\u001b[0m \u001b[0;34m'horizontal'\u001b[0m\u001b[0;34m:\u001b[0m\u001b[0;34m\u001b[0m\u001b[0m\n\u001b[1;32m   2127\u001b[0m                 \u001b[0mr\u001b[0m\u001b[0;34m.\u001b[0m\u001b[0msticky_edges\u001b[0m\u001b[0;34m.\u001b[0m\u001b[0mx\u001b[0m\u001b[0;34m.\u001b[0m\u001b[0mappend\u001b[0m\u001b[0;34m(\u001b[0m\u001b[0ml\u001b[0m\u001b[0;34m)\u001b[0m\u001b[0;34m\u001b[0m\u001b[0m\n\u001b[0;32m-> 2128\u001b[0;31m             \u001b[0mself\u001b[0m\u001b[0;34m.\u001b[0m\u001b[0madd_patch\u001b[0m\u001b[0;34m(\u001b[0m\u001b[0mr\u001b[0m\u001b[0;34m)\u001b[0m\u001b[0;34m\u001b[0m\u001b[0m\n\u001b[0m\u001b[1;32m   2129\u001b[0m             \u001b[0mpatches\u001b[0m\u001b[0;34m.\u001b[0m\u001b[0mappend\u001b[0m\u001b[0;34m(\u001b[0m\u001b[0mr\u001b[0m\u001b[0;34m)\u001b[0m\u001b[0;34m\u001b[0m\u001b[0m\n\u001b[1;32m   2130\u001b[0m \u001b[0;34m\u001b[0m\u001b[0m\n",
      "\u001b[0;32m/Users/gavinpeterkin/.virtualenvs/music/lib/python2.7/site-packages/matplotlib/axes/_base.pyc\u001b[0m in \u001b[0;36madd_patch\u001b[0;34m(self, p)\u001b[0m\n\u001b[1;32m   1866\u001b[0m         \u001b[0;32mif\u001b[0m \u001b[0mp\u001b[0m\u001b[0;34m.\u001b[0m\u001b[0mget_clip_path\u001b[0m\u001b[0;34m(\u001b[0m\u001b[0;34m)\u001b[0m \u001b[0;32mis\u001b[0m \u001b[0mNone\u001b[0m\u001b[0;34m:\u001b[0m\u001b[0;34m\u001b[0m\u001b[0m\n\u001b[1;32m   1867\u001b[0m             \u001b[0mp\u001b[0m\u001b[0;34m.\u001b[0m\u001b[0mset_clip_path\u001b[0m\u001b[0;34m(\u001b[0m\u001b[0mself\u001b[0m\u001b[0;34m.\u001b[0m\u001b[0mpatch\u001b[0m\u001b[0;34m)\u001b[0m\u001b[0;34m\u001b[0m\u001b[0m\n\u001b[0;32m-> 1868\u001b[0;31m         \u001b[0mself\u001b[0m\u001b[0;34m.\u001b[0m\u001b[0m_update_patch_limits\u001b[0m\u001b[0;34m(\u001b[0m\u001b[0mp\u001b[0m\u001b[0;34m)\u001b[0m\u001b[0;34m\u001b[0m\u001b[0m\n\u001b[0m\u001b[1;32m   1869\u001b[0m         \u001b[0mself\u001b[0m\u001b[0;34m.\u001b[0m\u001b[0mpatches\u001b[0m\u001b[0;34m.\u001b[0m\u001b[0mappend\u001b[0m\u001b[0;34m(\u001b[0m\u001b[0mp\u001b[0m\u001b[0;34m)\u001b[0m\u001b[0;34m\u001b[0m\u001b[0m\n\u001b[1;32m   1870\u001b[0m         \u001b[0mp\u001b[0m\u001b[0;34m.\u001b[0m\u001b[0m_remove_method\u001b[0m \u001b[0;34m=\u001b[0m \u001b[0;32mlambda\u001b[0m \u001b[0mh\u001b[0m\u001b[0;34m:\u001b[0m \u001b[0mself\u001b[0m\u001b[0;34m.\u001b[0m\u001b[0mpatches\u001b[0m\u001b[0;34m.\u001b[0m\u001b[0mremove\u001b[0m\u001b[0;34m(\u001b[0m\u001b[0mh\u001b[0m\u001b[0;34m)\u001b[0m\u001b[0;34m\u001b[0m\u001b[0m\n",
      "\u001b[0;32m/Users/gavinpeterkin/.virtualenvs/music/lib/python2.7/site-packages/matplotlib/axes/_base.pyc\u001b[0m in \u001b[0;36m_update_patch_limits\u001b[0;34m(self, patch)\u001b[0m\n\u001b[1;32m   1886\u001b[0m         \u001b[0mvertices\u001b[0m \u001b[0;34m=\u001b[0m \u001b[0mpatch\u001b[0m\u001b[0;34m.\u001b[0m\u001b[0mget_path\u001b[0m\u001b[0;34m(\u001b[0m\u001b[0;34m)\u001b[0m\u001b[0;34m.\u001b[0m\u001b[0mvertices\u001b[0m\u001b[0;34m\u001b[0m\u001b[0m\n\u001b[1;32m   1887\u001b[0m         \u001b[0;32mif\u001b[0m \u001b[0mvertices\u001b[0m\u001b[0;34m.\u001b[0m\u001b[0msize\u001b[0m \u001b[0;34m>\u001b[0m \u001b[0;36m0\u001b[0m\u001b[0;34m:\u001b[0m\u001b[0;34m\u001b[0m\u001b[0m\n\u001b[0;32m-> 1888\u001b[0;31m             \u001b[0mxys\u001b[0m \u001b[0;34m=\u001b[0m \u001b[0mpatch\u001b[0m\u001b[0;34m.\u001b[0m\u001b[0mget_patch_transform\u001b[0m\u001b[0;34m(\u001b[0m\u001b[0;34m)\u001b[0m\u001b[0;34m.\u001b[0m\u001b[0mtransform\u001b[0m\u001b[0;34m(\u001b[0m\u001b[0mvertices\u001b[0m\u001b[0;34m)\u001b[0m\u001b[0;34m\u001b[0m\u001b[0m\n\u001b[0m\u001b[1;32m   1889\u001b[0m             \u001b[0;32mif\u001b[0m \u001b[0mpatch\u001b[0m\u001b[0;34m.\u001b[0m\u001b[0mget_data_transform\u001b[0m\u001b[0;34m(\u001b[0m\u001b[0;34m)\u001b[0m \u001b[0;34m!=\u001b[0m \u001b[0mself\u001b[0m\u001b[0;34m.\u001b[0m\u001b[0mtransData\u001b[0m\u001b[0;34m:\u001b[0m\u001b[0;34m\u001b[0m\u001b[0m\n\u001b[1;32m   1890\u001b[0m                 patch_to_data = (patch.get_data_transform() -\n",
      "\u001b[0;32m/Users/gavinpeterkin/.virtualenvs/music/lib/python2.7/site-packages/matplotlib/patches.pyc\u001b[0m in \u001b[0;36mget_patch_transform\u001b[0;34m(self)\u001b[0m\n\u001b[1;32m    719\u001b[0m \u001b[0;34m\u001b[0m\u001b[0m\n\u001b[1;32m    720\u001b[0m     \u001b[0;32mdef\u001b[0m \u001b[0mget_patch_transform\u001b[0m\u001b[0;34m(\u001b[0m\u001b[0mself\u001b[0m\u001b[0;34m)\u001b[0m\u001b[0;34m:\u001b[0m\u001b[0;34m\u001b[0m\u001b[0m\n\u001b[0;32m--> 721\u001b[0;31m         \u001b[0mself\u001b[0m\u001b[0;34m.\u001b[0m\u001b[0m_update_patch_transform\u001b[0m\u001b[0;34m(\u001b[0m\u001b[0;34m)\u001b[0m\u001b[0;34m\u001b[0m\u001b[0m\n\u001b[0m\u001b[1;32m    722\u001b[0m         \u001b[0;32mreturn\u001b[0m \u001b[0mself\u001b[0m\u001b[0;34m.\u001b[0m\u001b[0m_rect_transform\u001b[0m\u001b[0;34m\u001b[0m\u001b[0m\n\u001b[1;32m    723\u001b[0m \u001b[0;34m\u001b[0m\u001b[0m\n",
      "\u001b[0;32m/Users/gavinpeterkin/.virtualenvs/music/lib/python2.7/site-packages/matplotlib/patches.pyc\u001b[0m in \u001b[0;36m_update_patch_transform\u001b[0;34m(self)\u001b[0m\n\u001b[1;32m    713\u001b[0m         \u001b[0mheight\u001b[0m \u001b[0;34m=\u001b[0m \u001b[0mself\u001b[0m\u001b[0;34m.\u001b[0m\u001b[0mconvert_yunits\u001b[0m\u001b[0;34m(\u001b[0m\u001b[0mself\u001b[0m\u001b[0;34m.\u001b[0m\u001b[0m_height\u001b[0m\u001b[0;34m)\u001b[0m\u001b[0;34m\u001b[0m\u001b[0m\n\u001b[1;32m    714\u001b[0m         \u001b[0mbbox\u001b[0m \u001b[0;34m=\u001b[0m \u001b[0mtransforms\u001b[0m\u001b[0;34m.\u001b[0m\u001b[0mBbox\u001b[0m\u001b[0;34m.\u001b[0m\u001b[0mfrom_bounds\u001b[0m\u001b[0;34m(\u001b[0m\u001b[0mx\u001b[0m\u001b[0;34m,\u001b[0m \u001b[0my\u001b[0m\u001b[0;34m,\u001b[0m \u001b[0mwidth\u001b[0m\u001b[0;34m,\u001b[0m \u001b[0mheight\u001b[0m\u001b[0;34m)\u001b[0m\u001b[0;34m\u001b[0m\u001b[0m\n\u001b[0;32m--> 715\u001b[0;31m         \u001b[0mrot_trans\u001b[0m \u001b[0;34m=\u001b[0m \u001b[0mtransforms\u001b[0m\u001b[0;34m.\u001b[0m\u001b[0mAffine2D\u001b[0m\u001b[0;34m(\u001b[0m\u001b[0;34m)\u001b[0m\u001b[0;34m\u001b[0m\u001b[0m\n\u001b[0m\u001b[1;32m    716\u001b[0m         \u001b[0mrot_trans\u001b[0m\u001b[0;34m.\u001b[0m\u001b[0mrotate_deg_around\u001b[0m\u001b[0;34m(\u001b[0m\u001b[0mx\u001b[0m\u001b[0;34m,\u001b[0m \u001b[0my\u001b[0m\u001b[0;34m,\u001b[0m \u001b[0mself\u001b[0m\u001b[0;34m.\u001b[0m\u001b[0m_angle\u001b[0m\u001b[0;34m)\u001b[0m\u001b[0;34m\u001b[0m\u001b[0m\n\u001b[1;32m    717\u001b[0m         \u001b[0mself\u001b[0m\u001b[0;34m.\u001b[0m\u001b[0m_rect_transform\u001b[0m \u001b[0;34m=\u001b[0m \u001b[0mtransforms\u001b[0m\u001b[0;34m.\u001b[0m\u001b[0mBboxTransformTo\u001b[0m\u001b[0;34m(\u001b[0m\u001b[0mbbox\u001b[0m\u001b[0;34m)\u001b[0m\u001b[0;34m\u001b[0m\u001b[0m\n",
      "\u001b[0;32m/Users/gavinpeterkin/.virtualenvs/music/lib/python2.7/site-packages/matplotlib/transforms.pyc\u001b[0m in \u001b[0;36m__init__\u001b[0;34m(self, matrix, **kwargs)\u001b[0m\n\u001b[1;32m   1816\u001b[0m         \u001b[0mIf\u001b[0m \u001b[0;34m*\u001b[0m\u001b[0mmatrix\u001b[0m\u001b[0;34m*\u001b[0m \u001b[0;32mis\u001b[0m \u001b[0mNone\u001b[0m\u001b[0;34m,\u001b[0m \u001b[0minitialize\u001b[0m \u001b[0;32mwith\u001b[0m \u001b[0mthe\u001b[0m \u001b[0midentity\u001b[0m \u001b[0mtransform\u001b[0m\u001b[0;34m.\u001b[0m\u001b[0;34m\u001b[0m\u001b[0m\n\u001b[1;32m   1817\u001b[0m         \"\"\"\n\u001b[0;32m-> 1818\u001b[0;31m         \u001b[0mAffine2DBase\u001b[0m\u001b[0;34m.\u001b[0m\u001b[0m__init__\u001b[0m\u001b[0;34m(\u001b[0m\u001b[0mself\u001b[0m\u001b[0;34m,\u001b[0m \u001b[0;34m**\u001b[0m\u001b[0mkwargs\u001b[0m\u001b[0;34m)\u001b[0m\u001b[0;34m\u001b[0m\u001b[0m\n\u001b[0m\u001b[1;32m   1819\u001b[0m         \u001b[0;32mif\u001b[0m \u001b[0mmatrix\u001b[0m \u001b[0;32mis\u001b[0m \u001b[0mNone\u001b[0m\u001b[0;34m:\u001b[0m\u001b[0;34m\u001b[0m\u001b[0m\n\u001b[1;32m   1820\u001b[0m             \u001b[0mmatrix\u001b[0m \u001b[0;34m=\u001b[0m \u001b[0mnp\u001b[0m\u001b[0;34m.\u001b[0m\u001b[0midentity\u001b[0m\u001b[0;34m(\u001b[0m\u001b[0;36m3\u001b[0m\u001b[0;34m)\u001b[0m\u001b[0;34m\u001b[0m\u001b[0m\n",
      "\u001b[0;32m/Users/gavinpeterkin/.virtualenvs/music/lib/python2.7/site-packages/matplotlib/transforms.pyc\u001b[0m in \u001b[0;36m__init__\u001b[0;34m(self, *args, **kwargs)\u001b[0m\n\u001b[1;32m   1661\u001b[0m \u001b[0;34m\u001b[0m\u001b[0m\n\u001b[1;32m   1662\u001b[0m     \u001b[0;32mdef\u001b[0m \u001b[0m__init__\u001b[0m\u001b[0;34m(\u001b[0m\u001b[0mself\u001b[0m\u001b[0;34m,\u001b[0m \u001b[0;34m*\u001b[0m\u001b[0margs\u001b[0m\u001b[0;34m,\u001b[0m \u001b[0;34m**\u001b[0m\u001b[0mkwargs\u001b[0m\u001b[0;34m)\u001b[0m\u001b[0;34m:\u001b[0m\u001b[0;34m\u001b[0m\u001b[0m\n\u001b[0;32m-> 1663\u001b[0;31m         \u001b[0mTransform\u001b[0m\u001b[0;34m.\u001b[0m\u001b[0m__init__\u001b[0m\u001b[0;34m(\u001b[0m\u001b[0mself\u001b[0m\u001b[0;34m,\u001b[0m \u001b[0;34m*\u001b[0m\u001b[0margs\u001b[0m\u001b[0;34m,\u001b[0m \u001b[0;34m**\u001b[0m\u001b[0mkwargs\u001b[0m\u001b[0;34m)\u001b[0m\u001b[0;34m\u001b[0m\u001b[0m\n\u001b[0m\u001b[1;32m   1664\u001b[0m         \u001b[0mself\u001b[0m\u001b[0;34m.\u001b[0m\u001b[0m_inverted\u001b[0m \u001b[0;34m=\u001b[0m \u001b[0mNone\u001b[0m\u001b[0;34m\u001b[0m\u001b[0m\n\u001b[1;32m   1665\u001b[0m \u001b[0;34m\u001b[0m\u001b[0m\n",
      "\u001b[0;32m/Users/gavinpeterkin/.virtualenvs/music/lib/python2.7/site-packages/matplotlib/transforms.pyc\u001b[0m in \u001b[0;36m__init__\u001b[0;34m(self, shorthand_name)\u001b[0m\n\u001b[1;32m     97\u001b[0m         \u001b[0;31m# parents are deleted, references from the children won't keep\u001b[0m\u001b[0;34m\u001b[0m\u001b[0;34m\u001b[0m\u001b[0m\n\u001b[1;32m     98\u001b[0m         \u001b[0;31m# them alive.\u001b[0m\u001b[0;34m\u001b[0m\u001b[0;34m\u001b[0m\u001b[0m\n\u001b[0;32m---> 99\u001b[0;31m         \u001b[0mself\u001b[0m\u001b[0;34m.\u001b[0m\u001b[0m_parents\u001b[0m \u001b[0;34m=\u001b[0m \u001b[0mWeakValueDictionary\u001b[0m\u001b[0;34m(\u001b[0m\u001b[0;34m)\u001b[0m\u001b[0;34m\u001b[0m\u001b[0m\n\u001b[0m\u001b[1;32m    100\u001b[0m \u001b[0;34m\u001b[0m\u001b[0m\n\u001b[1;32m    101\u001b[0m         \u001b[0;31m# TransformNodes start out as invalid until their values are\u001b[0m\u001b[0;34m\u001b[0m\u001b[0;34m\u001b[0m\u001b[0m\n",
      "\u001b[0;32m/Users/gavinpeterkin/anaconda2/lib/python2.7/weakref.pyc\u001b[0m in \u001b[0;36m__init__\u001b[0;34m(*args, **kw)\u001b[0m\n\u001b[1;32m     64\u001b[0m         \u001b[0mself\u001b[0m\u001b[0;34m.\u001b[0m\u001b[0m_pending_removals\u001b[0m \u001b[0;34m=\u001b[0m \u001b[0;34m[\u001b[0m\u001b[0;34m]\u001b[0m\u001b[0;34m\u001b[0m\u001b[0m\n\u001b[1;32m     65\u001b[0m         \u001b[0mself\u001b[0m\u001b[0;34m.\u001b[0m\u001b[0m_iterating\u001b[0m \u001b[0;34m=\u001b[0m \u001b[0mset\u001b[0m\u001b[0;34m(\u001b[0m\u001b[0;34m)\u001b[0m\u001b[0;34m\u001b[0m\u001b[0m\n\u001b[0;32m---> 66\u001b[0;31m         \u001b[0mUserDict\u001b[0m\u001b[0;34m.\u001b[0m\u001b[0mUserDict\u001b[0m\u001b[0;34m.\u001b[0m\u001b[0m__init__\u001b[0m\u001b[0;34m(\u001b[0m\u001b[0mself\u001b[0m\u001b[0;34m,\u001b[0m \u001b[0;34m*\u001b[0m\u001b[0margs\u001b[0m\u001b[0;34m,\u001b[0m \u001b[0;34m**\u001b[0m\u001b[0mkw\u001b[0m\u001b[0;34m)\u001b[0m\u001b[0;34m\u001b[0m\u001b[0m\n\u001b[0m\u001b[1;32m     67\u001b[0m \u001b[0;34m\u001b[0m\u001b[0m\n\u001b[1;32m     68\u001b[0m     \u001b[0;32mdef\u001b[0m \u001b[0m_commit_removals\u001b[0m\u001b[0;34m(\u001b[0m\u001b[0mself\u001b[0m\u001b[0;34m)\u001b[0m\u001b[0;34m:\u001b[0m\u001b[0;34m\u001b[0m\u001b[0m\n",
      "\u001b[0;32m/Users/gavinpeterkin/.virtualenvs/music/lib/python2.7/UserDict.pyc\u001b[0m in \u001b[0;36m__init__\u001b[0;34m(*args, **kwargs)\u001b[0m\n\u001b[1;32m      8\u001b[0m         \u001b[0mself\u001b[0m \u001b[0;34m=\u001b[0m \u001b[0margs\u001b[0m\u001b[0;34m[\u001b[0m\u001b[0;36m0\u001b[0m\u001b[0;34m]\u001b[0m\u001b[0;34m\u001b[0m\u001b[0m\n\u001b[1;32m      9\u001b[0m         \u001b[0margs\u001b[0m \u001b[0;34m=\u001b[0m \u001b[0margs\u001b[0m\u001b[0;34m[\u001b[0m\u001b[0;36m1\u001b[0m\u001b[0;34m:\u001b[0m\u001b[0;34m]\u001b[0m\u001b[0;34m\u001b[0m\u001b[0m\n\u001b[0;32m---> 10\u001b[0;31m         \u001b[0;32mif\u001b[0m \u001b[0mlen\u001b[0m\u001b[0;34m(\u001b[0m\u001b[0margs\u001b[0m\u001b[0;34m)\u001b[0m \u001b[0;34m>\u001b[0m \u001b[0;36m1\u001b[0m\u001b[0;34m:\u001b[0m\u001b[0;34m\u001b[0m\u001b[0m\n\u001b[0m\u001b[1;32m     11\u001b[0m             \u001b[0;32mraise\u001b[0m \u001b[0mTypeError\u001b[0m\u001b[0;34m(\u001b[0m\u001b[0;34m'expected at most 1 arguments, got %d'\u001b[0m \u001b[0;34m%\u001b[0m \u001b[0mlen\u001b[0m\u001b[0;34m(\u001b[0m\u001b[0margs\u001b[0m\u001b[0;34m)\u001b[0m\u001b[0;34m)\u001b[0m\u001b[0;34m\u001b[0m\u001b[0m\n\u001b[1;32m     12\u001b[0m         \u001b[0;32mif\u001b[0m \u001b[0margs\u001b[0m\u001b[0;34m:\u001b[0m\u001b[0;34m\u001b[0m\u001b[0m\n",
      "\u001b[0;31mKeyboardInterrupt\u001b[0m: "
     ]
    },
    {
     "data": {
      "image/png": "[encoded data removed]",
      "text/plain": [
       "<matplotlib.figure.Figure at 0x10be28a10>"
      ]
     },
     "metadata": {},
     "output_type": "display_data"
    }
   ],
   "source": [
    "with tf.Session() as sess:\n",
    "    sess.run(tf.initialize_all_variables())\n",
    "    plt.ion()\n",
    "    plt.figure()\n",
    "    plt.show()\n",
    "    loss_list = []\n",
    "\n",
    "    for epoch_idx in range(num_epochs):\n",
    "        x,y = generateData()\n",
    "        _current_cell_state = np.zeros((batch_size, state_size))\n",
    "        _current_hidden_state = np.zeros((batch_size, state_size))\n",
    "\n",
    "        print(\"New data, epoch\", epoch_idx)\n",
    "\n",
    "        for batch_idx in range(num_batches):\n",
    "            start_idx = batch_idx * truncated_backprop_length\n",
    "            end_idx = start_idx + truncated_backprop_length\n",
    "\n",
    "            batchX = x[:,start_idx:end_idx]\n",
    "            batchY = y[:,start_idx:end_idx]\n",
    "\n",
    "            _total_loss, _train_step, _current_state, _predictions_series = sess.run(\n",
    "                [total_loss, train_step, current_state, predictions_series],\n",
    "                feed_dict={\n",
    "                    batchX_placeholder: batchX,\n",
    "                    batchY_placeholder: batchY,\n",
    "                    cell_state: _current_cell_state,\n",
    "                    hidden_state: _current_hidden_state\n",
    "\n",
    "                })\n",
    "\n",
    "            _current_cell_state, _current_hidden_state = _current_state\n",
    "\n",
    "            loss_list.append(_total_loss)\n",
    "\n",
    "            if batch_idx%100 == 0:\n",
    "                print(\"Step\",batch_idx, \"Batch loss\", _total_loss)\n",
    "                plot(loss_list, _predictions_series, batchX, batchY)\n",
    "\n",
    "plt.ioff()\n",
    "# plt.show()\n"
   ]
  },
  {
   "cell_type": "code",
   "execution_count": null,
   "metadata": {
    "collapsed": true
   },
   "outputs": [],
   "source": []
  }
 ],
 "metadata": {
  "kernelspec": {
   "display_name": "music",
   "language": "python",
   "name": "music"
  },
  "language_info": {
   "codemirror_mode": {
    "name": "ipython",
    "version": 2
   },
   "file_extension": ".py",
   "mimetype": "text/x-python",
   "name": "python",
   "nbconvert_exporter": "python",
   "pygments_lexer": "ipython2",
   "version": "2.7.13"
  }
 },
 "nbformat": 4,
 "nbformat_minor": 2
}
